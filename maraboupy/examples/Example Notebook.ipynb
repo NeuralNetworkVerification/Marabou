{
 "cells": [
  {
   "cell_type": "markdown",
   "metadata": {},
   "source": [
    "### import"
   ]
  },
  {
   "cell_type": "code",
   "execution_count": 1,
   "metadata": {
    "collapsed": true
   },
   "outputs": [],
   "source": [
    "import numpy as np"
   ]
  },
  {
   "cell_type": "code",
   "execution_count": 2,
   "metadata": {
    "collapsed": true
   },
   "outputs": [],
   "source": [
    "from maraboupy import Marabou"
   ]
  },
  {
   "cell_type": "markdown",
   "metadata": {},
   "source": [
    "### file names"
   ]
  },
  {
   "cell_type": "code",
   "execution_count": 3,
   "metadata": {
    "collapsed": true
   },
   "outputs": [],
   "source": [
    "nnet_file_name = \"../../src/input_parsers/acas_example/ACASXU_run2a_1_1_tiny_2.nnet\"\n",
    "proto_file_name = \"./networks/ACASXU_TF12_run3_DS_Minus15_Online_tau0_pra1_200Epochs.pb\"\n",
    "#proto_file_name = \"../examples/networks/ACASXU_TF12_run3_DS_Minus15_Online_tau1_pra1_200Epochs.pb\""
   ]
  },
  {
   "cell_type": "markdown",
   "metadata": {},
   "source": [
    "### load the network from NNet file"
   ]
  },
  {
   "cell_type": "code",
   "execution_count": 11,
   "metadata": {},
   "outputs": [
    {
     "name": "stdout",
     "output_type": "stream",
     "text": [
      "SAT\n",
      "input 0 = -0.32842287715105956\n",
      "input 1 = 0.4093292458896232\n",
      "input 2 = -0.01737928983483918\n",
      "input 3 = -0.27476839800416775\n",
      "input 4 = -0.306281330264657\n",
      "output 0 = 0.5\n",
      "output 1 = -0.18876336089104007\n",
      "output 2 = 0.8081545469315792\n",
      "output 3 = -2.7642138441457913\n",
      "output 4 = -0.1299298407079034\n"
     ]
    }
   ],
   "source": [
    "net1 = Marabou.read_nnet(nnet_file_name)\n",
    "net1.setLowerBound(net1.outputVars[0], .5)\n",
    "vals1, stats1 = net1.solve()"
   ]
  },
  {
   "cell_type": "code",
   "execution_count": 14,
   "metadata": {},
   "outputs": [
    {
     "name": "stdout",
     "output_type": "stream",
     "text": [
      "SAT\n",
      "input 0 = -0.32842287715105956\n",
      "input 1 = 0.4093292458896232\n",
      "input 2 = -0.01737928983483918\n",
      "input 3 = -0.27476839800416775\n",
      "input 4 = -0.306281330264657\n",
      "output 0 = 0.5\n",
      "output 1 = -0.18876336089104007\n",
      "output 2 = 0.8081545469315792\n",
      "output 3 = -2.7642138441457913\n",
      "output 4 = -0.1299298407079034\n",
      "SAT\n",
      "input 0 = -0.32842287715105956\n",
      "input 1 = 0.4093292458896232\n",
      "input 2 = -0.01737928983483918\n",
      "input 3 = -0.27476839800416775\n",
      "input 4 = -0.306281330264657\n",
      "output 0 = 0.5\n",
      "output 1 = -0.18876336089104007\n",
      "output 2 = 0.8081545469315792\n",
      "output 3 = -2.7642138441457913\n",
      "output 4 = -0.1299298407079034\n",
      "SAT\n",
      "input 0 = -0.32842287715105956\n",
      "input 1 = 0.4093292458896232\n",
      "input 2 = -0.01737928983483918\n",
      "input 3 = -0.27476839800416775\n",
      "input 4 = -0.306281330264657\n",
      "output 0 = 0.5\n",
      "output 1 = -0.18876336089104007\n",
      "output 2 = 0.8081545469315792\n",
      "output 3 = -2.7642138441457913\n",
      "output 4 = -0.1299298407079034\n",
      "SAT\n",
      "input 0 = -0.32842287715105956\n",
      "input 1 = 0.4093292458896232\n",
      "input 2 = -0.01737928983483918\n",
      "input 3 = -0.27476839800416775\n",
      "input 4 = -0.306281330264657\n",
      "output 0 = 0.5\n",
      "output 1 = -0.18876336089104007\n",
      "output 2 = 0.8081545469315792\n",
      "output 3 = -2.7642138441457913\n",
      "output 4 = -0.1299298407079034\n",
      "SAT\n",
      "input 0 = -0.32842287715105956\n",
      "input 1 = 0.4093292458896232\n",
      "input 2 = -0.01737928983483918\n",
      "input 3 = -0.27476839800416775\n",
      "input 4 = -0.306281330264657\n",
      "output 0 = 0.5\n",
      "output 1 = -0.18876336089104007\n",
      "output 2 = 0.8081545469315792\n",
      "output 3 = -2.7642138441457913\n",
      "output 4 = -0.1299298407079034\n",
      "SAT\n",
      "input 0 = -0.32842287715105956\n",
      "input 1 = 0.4093292458896232\n",
      "input 2 = -0.01737928983483918\n",
      "input 3 = -0.27476839800416775\n",
      "input 4 = -0.306281330264657\n",
      "output 0 = 0.5\n",
      "output 1 = -0.18876336089104007\n",
      "output 2 = 0.8081545469315792\n",
      "output 3 = -2.7642138441457913\n",
      "output 4 = -0.1299298407079034\n",
      "SAT\n",
      "input 0 = -0.32842287715105956\n",
      "input 1 = 0.4093292458896232\n",
      "input 2 = -0.01737928983483918\n",
      "input 3 = -0.27476839800416775\n",
      "input 4 = -0.306281330264657\n",
      "output 0 = 0.5\n",
      "output 1 = -0.18876336089104007\n",
      "output 2 = 0.8081545469315792\n",
      "output 3 = -2.7642138441457913\n",
      "output 4 = -0.1299298407079034\n",
      "SAT\n",
      "input 0 = -0.32842287715105956\n",
      "input 1 = 0.4093292458896232\n",
      "input 2 = -0.01737928983483918\n",
      "input 3 = -0.27476839800416775\n",
      "input 4 = -0.306281330264657\n",
      "output 0 = 0.5\n",
      "output 1 = -0.18876336089104007\n",
      "output 2 = 0.8081545469315792\n",
      "output 3 = -2.7642138441457913\n",
      "output 4 = -0.1299298407079034\n",
      "8.56 s ± 815 ms per loop (mean ± std. dev. of 7 runs, 1 loop each)\n"
     ]
    }
   ],
   "source": [
    "% timeit vals1, stats1 = net1.solve()"
   ]
  },
  {
   "cell_type": "markdown",
   "metadata": {},
   "source": [
    "### Example Statistics"
   ]
  },
  {
   "cell_type": "code",
   "execution_count": 12,
   "metadata": {},
   "outputs": [
    {
     "data": {
      "text/plain": [
       "311"
      ]
     },
     "execution_count": 12,
     "metadata": {},
     "output_type": "execute_result"
    }
   ],
   "source": [
    "stats1.getNumSplits()"
   ]
  },
  {
   "cell_type": "code",
   "execution_count": 13,
   "metadata": {
    "scrolled": true
   },
   "outputs": [
    {
     "data": {
      "text/plain": [
       "5459"
      ]
     },
     "execution_count": 13,
     "metadata": {},
     "output_type": "execute_result"
    }
   ],
   "source": [
    "stats1.getTotalTime()"
   ]
  },
  {
   "cell_type": "markdown",
   "metadata": {},
   "source": [
    "### Aux functions for proto net"
   ]
  },
  {
   "cell_type": "code",
   "execution_count": 4,
   "metadata": {
    "collapsed": true
   },
   "outputs": [],
   "source": [
    "def getInputLowerBound(i):\n",
    "    inputMins = [-0.320142, -0.5, -0.5, -0.3352525, -0.35]\n",
    "    return inputMins[i]\n",
    "\n",
    "def getInputUpperBound(i):\n",
    "    inputMaxes = [0.679858,  0.5, 0.5, 0.6647475,  0.65]\n",
    "    return inputMaxes[i]"
   ]
  },
  {
   "cell_type": "code",
   "execution_count": 5,
   "metadata": {},
   "outputs": [
    {
     "name": "stdout",
     "output_type": "stream",
     "text": [
      "SAT\n",
      "input 0 = 0.679858\n",
      "input 1 = 0.3589412417441\n",
      "input 2 = 0.10020614515835646\n",
      "input 3 = -0.33042753854529106\n",
      "input 4 = 0.42043843670644987\n",
      "output 0 = -0.024236016349119358\n",
      "output 1 = -0.01907926599163216\n",
      "output 2 = -0.018991806529834825\n",
      "output 3 = -0.017283897044708507\n",
      "output 4 = -0.019413993150527546\n"
     ]
    }
   ],
   "source": [
    "net2 = Marabou.read_tf(proto_file_name)\n",
    "\n",
    "for inputVar, i in enumerate(net2.inputVars[0]):\n",
    "    net2.setLowerBound(inputVar, getInputLowerBound(i))\n",
    "    net2.setUpperBound(inputVar, getInputUpperBound(i))\n",
    "\n",
    "vals2, stats2 = net2.solve()"
   ]
  },
  {
   "cell_type": "code",
   "execution_count": 7,
   "metadata": {},
   "outputs": [
    {
     "data": {
      "text/plain": [
       "12"
      ]
     },
     "execution_count": 7,
     "metadata": {},
     "output_type": "execute_result"
    }
   ],
   "source": [
    "stats2.getNumSplits()"
   ]
  },
  {
   "cell_type": "code",
   "execution_count": 10,
   "metadata": {},
   "outputs": [
    {
     "data": {
      "text/plain": [
       "191318"
      ]
     },
     "execution_count": 10,
     "metadata": {},
     "output_type": "execute_result"
    }
   ],
   "source": [
    "stats2.getTotalTime()"
   ]
  },
  {
   "cell_type": "markdown",
   "metadata": {},
   "source": [
    "### Eval Example"
   ]
  },
  {
   "cell_type": "code",
   "execution_count": 20,
   "metadata": {},
   "outputs": [
    {
     "name": "stdout",
     "output_type": "stream",
     "text": [
      "SAT\n",
      "input 0 = -0.32842287715105956\n",
      "input 1 = 0.4093292458896232\n",
      "input 2 = -0.01737928983483918\n",
      "input 3 = -0.27476839800416775\n",
      "input 4 = -0.306281330264657\n",
      "output 0 = 0.5\n",
      "output 1 = -0.18876336089104007\n",
      "output 2 = 0.8081545469315792\n",
      "output 3 = -2.7642138441457913\n",
      "output 4 = -0.1299298407079034\n"
     ]
    }
   ],
   "source": [
    "net3 = Marabou.read_nnet(nnet_file_name)\n",
    "net3.setLowerBound(net3.outputVars[0], .5)\n",
    "vals3, stats3 = net3.solve()\n"
   ]
  },
  {
   "cell_type": "code",
   "execution_count": 21,
   "metadata": {},
   "outputs": [
    {
     "data": {
      "text/plain": [
       "6027"
      ]
     },
     "execution_count": 21,
     "metadata": {},
     "output_type": "execute_result"
    }
   ],
   "source": [
    "stats3.getTotalTime()"
   ]
  },
  {
   "cell_type": "code",
   "execution_count": null,
   "metadata": {
    "collapsed": true
   },
   "outputs": [],
   "source": []
  },
  {
   "cell_type": "code",
   "execution_count": 17,
   "metadata": {
    "collapsed": true
   },
   "outputs": [],
   "source": [
    "input0 = -0.328422874212265\n",
    "input1 = 0.40932923555374146\n",
    "input2 = -0.017379289492964745\n",
    "input3 = -0.2747684121131897\n",
    "input4 = -0.30628132820129395\n",
    "\n",
    "output0 = 0.5\n",
    "output1 = -0.18876336514949799\n",
    "output2 = 0.8081545233726501\n",
    "output3 = -2.764213800430298\n",
    "output4 = -0.12992984056472778"
   ]
  },
  {
   "cell_type": "code",
   "execution_count": 18,
   "metadata": {},
   "outputs": [
    {
     "name": "stdout",
     "output_type": "stream",
     "text": [
      "SAT\n",
      "input 0 = -0.328422874212265\n",
      "input 1 = 0.40932923555374146\n",
      "input 2 = -0.017379289492964745\n",
      "input 3 = -0.2747684121131897\n",
      "input 4 = -0.30628132820129395\n",
      "output 0 = 0.49999677515649005\n",
      "output 1 = -0.18876658957388143\n",
      "output 2 = 0.807785545376377\n",
      "output 3 = -2.7642226430352106\n",
      "output 4 = -0.12984317469803675\n"
     ]
    }
   ],
   "source": [
    "### Eval Example:\n",
    "net3 = Marabou.read_nnet(nnet_file_name)\n",
    "\n",
    "net3.setLowerBound(net3.inputVars[0], input0)\n",
    "net3.setUpperBound(net3.inputVars[0], input0)\n",
    "\n",
    "net3.setLowerBound(net3.inputVars[1], input1)\n",
    "net3.setUpperBound(net3.inputVars[1], input1)\n",
    "\n",
    "net3.setLowerBound(net3.inputVars[2], input2)\n",
    "net3.setUpperBound(net3.inputVars[2], input2)\n",
    "\n",
    "net3.setLowerBound(net3.inputVars[3], input3)\n",
    "net3.setUpperBound(net3.inputVars[3], input3)\n",
    "\n",
    "net3.setLowerBound(net3.inputVars[4], input4)\n",
    "net3.setUpperBound(net3.inputVars[4], input4)\n",
    "\n",
    "\n",
    "vals3, stats3 = net3.solve()\n",
    "\n"
   ]
  },
  {
   "cell_type": "code",
   "execution_count": 19,
   "metadata": {},
   "outputs": [
    {
     "name": "stdout",
     "output_type": "stream",
     "text": [
      "DIFF0 = 3.2248435099524464e-06\n",
      "DIFF1 = 3.2244243834411712e-06\n",
      "DIFF2 = 0.0003689779962731121\n",
      "DIFF3 = 8.842604912739915e-06\n",
      "DIFF4 = -8.666586669103804e-05\n",
      "NORM OF ERROR: 0.0003791499998324417\n"
     ]
    }
   ],
   "source": [
    "#for i, var in enumerate(input_variables):\n",
    "#    print(\"input\" + str(i) + \" = {}\".format(vals[var]) )\n",
    "\n",
    "#for i, var in enumerate(output_variables):\n",
    "#    print(\"output\" + str(i) + \" = {}\".format(vals[var]) )\n",
    "\n",
    "print(\"DIFF0 = {}\".format(output0 - vals3[net3.outputVars[0]]))\n",
    "print(\"DIFF1 = {}\".format(output1 - vals3[net3.outputVars[1]]))\n",
    "print(\"DIFF2 = {}\".format(output2 - vals3[net3.outputVars[2]]))\n",
    "print(\"DIFF3 = {}\".format(output3 - vals3[net3.outputVars[3]]))\n",
    "print(\"DIFF4 = {}\".format(output4 - vals3[net3.outputVars[4]]))\n",
    "\n",
    "error = np.array([ output0 - vals3[net3.outputVars[0]],output1 - vals3[net3.outputVars[1]], output2 - vals3[net3.outputVars[2]], output3 - vals3[net3.outputVars[3]], output4 - vals3[net3.outputVars[4]],  ])\n",
    "\n",
    "print(\"NORM OF ERROR: {}\".format(np.linalg.norm(error)))"
   ]
  },
  {
   "cell_type": "code",
   "execution_count": null,
   "metadata": {
    "collapsed": true
   },
   "outputs": [],
   "source": []
  }
 ],
 "metadata": {
  "kernelspec": {
   "display_name": "Py3Default",
   "language": "python",
   "name": "py3default"
  },
  "language_info": {
   "codemirror_mode": {
    "name": "ipython",
    "version": 3
   },
   "file_extension": ".py",
   "mimetype": "text/x-python",
   "name": "python",
   "nbconvert_exporter": "python",
   "pygments_lexer": "ipython3",
   "version": "3.5.4"
  }
 },
 "nbformat": 4,
 "nbformat_minor": 2
}
