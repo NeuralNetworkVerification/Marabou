{
 "cells": [
  {
   "cell_type": "markdown",
   "metadata": {},
   "source": [
    "### import"
   ]
  },
  {
   "cell_type": "code",
   "execution_count": 1,
   "metadata": {},
   "outputs": [],
   "source": [
    "import numpy as np"
   ]
  },
  {
   "cell_type": "code",
   "execution_count": 2,
   "metadata": {},
   "outputs": [],
   "source": [
    "from maraboupy import Marabou"
   ]
  },
  {
   "cell_type": "markdown",
   "metadata": {},
   "source": [
    "### file names"
   ]
  },
  {
   "cell_type": "code",
   "execution_count": 3,
   "metadata": {},
   "outputs": [],
   "source": [
    "nnet_file_name = \"./networks/ACASXU_TF12_run3_DS_Minus15_Online_tau0_pra1_200Epochs.nnet\"\n",
    "proto_file_name = \"./networks/ACASXU_TF12_run3_DS_Minus15_Online_tau0_pra1_200Epochs.pb\"\n",
    "#proto_file_name = \"../examples/networks/ACASXU_TF12_run3_DS_Minus15_Online_tau1_pra1_200Epochs.pb\""
   ]
  },
  {
   "cell_type": "markdown",
   "metadata": {},
   "source": [
    "### load the network from NNet file"
   ]
  },
  {
   "cell_type": "code",
   "execution_count": 4,
   "metadata": {
    "scrolled": true
   },
   "outputs": [
    {
     "ename": "IndexError",
     "evalue": "list index out of range",
     "output_type": "error",
     "traceback": [
      "\u001b[0;31m---------------------------------------------------------------------------\u001b[0m",
      "\u001b[0;31mIndexError\u001b[0m                                Traceback (most recent call last)",
      "\u001b[0;32m<ipython-input-4-36a76e2afd7b>\u001b[0m in \u001b[0;36m<module>\u001b[0;34m\u001b[0m\n\u001b[0;32m----> 1\u001b[0;31m \u001b[0mnet1\u001b[0m \u001b[0;34m=\u001b[0m \u001b[0mMarabou\u001b[0m\u001b[0;34m.\u001b[0m\u001b[0mread_nnet\u001b[0m\u001b[0;34m(\u001b[0m\u001b[0mnnet_file_name\u001b[0m\u001b[0;34m,\u001b[0m \u001b[0;32mTrue\u001b[0m\u001b[0;34m)\u001b[0m\u001b[0;34m\u001b[0m\u001b[0;34m\u001b[0m\u001b[0m\n\u001b[0m\u001b[1;32m      2\u001b[0m \u001b[0mnet1\u001b[0m\u001b[0;34m.\u001b[0m\u001b[0msetLowerBound\u001b[0m\u001b[0;34m(\u001b[0m\u001b[0mnet1\u001b[0m\u001b[0;34m.\u001b[0m\u001b[0moutputVars\u001b[0m\u001b[0;34m[\u001b[0m\u001b[0;36m0\u001b[0m\u001b[0;34m]\u001b[0m\u001b[0;34m[\u001b[0m\u001b[0;36m0\u001b[0m\u001b[0;34m]\u001b[0m\u001b[0;34m,\u001b[0m \u001b[0;36m.5\u001b[0m\u001b[0;34m)\u001b[0m\u001b[0;34m\u001b[0m\u001b[0;34m\u001b[0m\u001b[0m\n",
      "\u001b[0;32m~/Projects/Marabou/maraboupy/Marabou.py\u001b[0m in \u001b[0;36mread_nnet\u001b[0;34m(filename, sbt)\u001b[0m\n\u001b[1;32m     12\u001b[0m         \u001b[0mmarabouNetworkNNet\u001b[0m\u001b[0;34m:\u001b[0m \u001b[0;34m(\u001b[0m\u001b[0mMarabouNetworkNNet\u001b[0m\u001b[0;34m)\u001b[0m \u001b[0mrepresenting\u001b[0m \u001b[0mnetwork\u001b[0m\u001b[0;34m\u001b[0m\u001b[0;34m\u001b[0m\u001b[0m\n\u001b[1;32m     13\u001b[0m     \"\"\"\n\u001b[0;32m---> 14\u001b[0;31m     \u001b[0;32mreturn\u001b[0m \u001b[0mMarabouNetworkNNet\u001b[0m\u001b[0;34m(\u001b[0m\u001b[0mfilename\u001b[0m\u001b[0;34m,\u001b[0m \u001b[0mperform_sbt\u001b[0m\u001b[0;34m=\u001b[0m\u001b[0msbt\u001b[0m\u001b[0;34m)\u001b[0m\u001b[0;34m\u001b[0m\u001b[0;34m\u001b[0m\u001b[0m\n\u001b[0m\u001b[1;32m     15\u001b[0m \u001b[0;34m\u001b[0m\u001b[0m\n\u001b[1;32m     16\u001b[0m \u001b[0;34m\u001b[0m\u001b[0m\n",
      "\u001b[0;32m~/Projects/Marabou/maraboupy/MarabouNetworkNNet.py\u001b[0m in \u001b[0;36m__init__\u001b[0;34m(self, filename, perform_sbt)\u001b[0m\n\u001b[1;32m     67\u001b[0m         \u001b[0mself\u001b[0m\u001b[0;34m.\u001b[0m\u001b[0mnumVars\u001b[0m \u001b[0;34m=\u001b[0m \u001b[0mself\u001b[0m\u001b[0;34m.\u001b[0m\u001b[0mnumberOfVariables\u001b[0m\u001b[0;34m(\u001b[0m\u001b[0;34m)\u001b[0m\u001b[0;34m\u001b[0m\u001b[0;34m\u001b[0m\u001b[0m\n\u001b[1;32m     68\u001b[0m         \u001b[0;32mif\u001b[0m \u001b[0mperform_sbt\u001b[0m\u001b[0;34m:\u001b[0m\u001b[0;34m\u001b[0m\u001b[0;34m\u001b[0m\u001b[0m\n\u001b[0;32m---> 69\u001b[0;31m             \u001b[0mself\u001b[0m\u001b[0;34m.\u001b[0m\u001b[0msbt\u001b[0m \u001b[0;34m=\u001b[0m \u001b[0mself\u001b[0m\u001b[0;34m.\u001b[0m\u001b[0mcreateSBT\u001b[0m\u001b[0;34m(\u001b[0m\u001b[0mfilename\u001b[0m\u001b[0;34m)\u001b[0m\u001b[0;34m\u001b[0m\u001b[0;34m\u001b[0m\u001b[0m\n\u001b[0m\u001b[1;32m     70\u001b[0m         \u001b[0;32melse\u001b[0m\u001b[0;34m:\u001b[0m\u001b[0;34m\u001b[0m\u001b[0;34m\u001b[0m\u001b[0m\n\u001b[1;32m     71\u001b[0m             \u001b[0mself\u001b[0m\u001b[0;34m.\u001b[0m\u001b[0msbt\u001b[0m \u001b[0;34m=\u001b[0m \u001b[0;32mNone\u001b[0m\u001b[0;34m\u001b[0m\u001b[0;34m\u001b[0m\u001b[0m\n",
      "\u001b[0;32m~/Projects/Marabou/maraboupy/MarabouNetworkNNet.py\u001b[0m in \u001b[0;36mcreateSBT\u001b[0;34m(self, filename)\u001b[0m\n\u001b[1;32m     89\u001b[0m             \u001b[0;32mfor\u001b[0m \u001b[0mtarget\u001b[0m \u001b[0;32min\u001b[0m \u001b[0mrange\u001b[0m\u001b[0;34m(\u001b[0m\u001b[0mtargetLayerSize\u001b[0m\u001b[0;34m)\u001b[0m\u001b[0;34m:\u001b[0m\u001b[0;34m\u001b[0m\u001b[0;34m\u001b[0m\u001b[0m\n\u001b[1;32m     90\u001b[0m                 \u001b[0;32mfor\u001b[0m \u001b[0msource\u001b[0m \u001b[0;32min\u001b[0m \u001b[0mrange\u001b[0m\u001b[0;34m(\u001b[0m\u001b[0msourceLayerSize\u001b[0m\u001b[0;34m)\u001b[0m\u001b[0;34m:\u001b[0m\u001b[0;34m\u001b[0m\u001b[0;34m\u001b[0m\u001b[0m\n\u001b[0;32m---> 91\u001b[0;31m                     \u001b[0msbt\u001b[0m\u001b[0;34m.\u001b[0m\u001b[0msetWeight\u001b[0m\u001b[0;34m(\u001b[0m\u001b[0mlayer\u001b[0m\u001b[0;34m,\u001b[0m \u001b[0msource\u001b[0m\u001b[0;34m,\u001b[0m \u001b[0mtarget\u001b[0m\u001b[0;34m,\u001b[0m \u001b[0mself\u001b[0m\u001b[0;34m.\u001b[0m\u001b[0mweights\u001b[0m\u001b[0;34m[\u001b[0m\u001b[0mlayer\u001b[0m\u001b[0;34m]\u001b[0m\u001b[0;34m[\u001b[0m\u001b[0msource\u001b[0m\u001b[0;34m]\u001b[0m\u001b[0;34m[\u001b[0m\u001b[0mtarget\u001b[0m\u001b[0;34m]\u001b[0m\u001b[0;34m)\u001b[0m\u001b[0;34m\u001b[0m\u001b[0;34m\u001b[0m\u001b[0m\n\u001b[0m\u001b[1;32m     92\u001b[0m         \u001b[0;31m# Initial bounds\u001b[0m\u001b[0;34m\u001b[0m\u001b[0;34m\u001b[0m\u001b[0;34m\u001b[0m\u001b[0m\n\u001b[1;32m     93\u001b[0m         \u001b[0;32mfor\u001b[0m \u001b[0mi\u001b[0m \u001b[0;32min\u001b[0m \u001b[0mrange\u001b[0m\u001b[0;34m(\u001b[0m\u001b[0mself\u001b[0m\u001b[0;34m.\u001b[0m\u001b[0minputSize\u001b[0m\u001b[0;34m)\u001b[0m\u001b[0;34m:\u001b[0m\u001b[0;34m\u001b[0m\u001b[0;34m\u001b[0m\u001b[0m\n",
      "\u001b[0;31mIndexError\u001b[0m: list index out of range"
     ]
    }
   ],
   "source": [
    "net1 = Marabou.read_nnet(nnet_file_name, True)\n",
    "net1.setLowerBound(net1.outputVars[0][0], .5)\n"
   ]
  },
  {
   "cell_type": "code",
   "execution_count": null,
   "metadata": {},
   "outputs": [],
   "source": [
    "vals1, stats1 = net1.solve()"
   ]
  },
  {
   "cell_type": "code",
   "execution_count": null,
   "metadata": {},
   "outputs": [],
   "source": [
    "% timeit vals1, stats1 = net1.solve()"
   ]
  },
  {
   "cell_type": "markdown",
   "metadata": {},
   "source": [
    "### Example Statistics"
   ]
  },
  {
   "cell_type": "code",
   "execution_count": null,
   "metadata": {},
   "outputs": [],
   "source": [
    "stats1.getNumSplits()"
   ]
  },
  {
   "cell_type": "code",
   "execution_count": null,
   "metadata": {
    "scrolled": true
   },
   "outputs": [],
   "source": [
    "stats1.getTotalTime()"
   ]
  },
  {
   "cell_type": "markdown",
   "metadata": {},
   "source": [
    "### Aux functions for proto net"
   ]
  },
  {
   "cell_type": "code",
   "execution_count": null,
   "metadata": {},
   "outputs": [],
   "source": [
    "def getInputLowerBound(i):\n",
    "    inputMins = [-0.320142, -0.5, -0.5, -0.3352525, -0.35]\n",
    "    return inputMins[i]\n",
    "\n",
    "def getInputUpperBound(i):\n",
    "    inputMaxes = [0.679858,  0.5, 0.5, 0.6647475,  0.65]\n",
    "    return inputMaxes[i]"
   ]
  },
  {
   "cell_type": "code",
   "execution_count": null,
   "metadata": {},
   "outputs": [],
   "source": [
    "net2 = Marabou.read_tf(proto_file_name)\n",
    "\n",
    "for inputVar, i in enumerate(net2.inputVars[0]):\n",
    "    net2.setLowerBound(inputVar, getInputLowerBound(i))\n",
    "    net2.setUpperBound(inputVar, getInputUpperBound(i))\n",
    "\n",
    "vals2, stats2 = net2.solve()"
   ]
  },
  {
   "cell_type": "code",
   "execution_count": null,
   "metadata": {},
   "outputs": [],
   "source": [
    "stats2.getNumSplits()"
   ]
  },
  {
   "cell_type": "code",
   "execution_count": null,
   "metadata": {},
   "outputs": [],
   "source": [
    "stats2.getTotalTime()"
   ]
  },
  {
   "cell_type": "markdown",
   "metadata": {},
   "source": [
    "### Eval Example"
   ]
  },
  {
   "cell_type": "code",
   "execution_count": null,
   "metadata": {},
   "outputs": [],
   "source": [
    "net3 = Marabou.read_nnet(nnet_file_name)\n",
    "net3.setLowerBound(net3.outputVars[0][0], .5)\n",
    "vals3, stats3 = net3.solve()\n"
   ]
  },
  {
   "cell_type": "code",
   "execution_count": null,
   "metadata": {},
   "outputs": [],
   "source": [
    "stats3.getTotalTime()"
   ]
  },
  {
   "cell_type": "code",
   "execution_count": null,
   "metadata": {},
   "outputs": [],
   "source": []
  },
  {
   "cell_type": "code",
   "execution_count": null,
   "metadata": {},
   "outputs": [],
   "source": [
    "input0 = -0.328422874212265\n",
    "input1 = 0.40932923555374146\n",
    "input2 = -0.017379289492964745\n",
    "input3 = -0.2747684121131897\n",
    "input4 = -0.30628132820129395\n",
    "\n",
    "output0 = 0.5\n",
    "output1 = -0.18876336514949799\n",
    "output2 = 0.8081545233726501\n",
    "output3 = -2.764213800430298\n",
    "output4 = -0.12992984056472778"
   ]
  },
  {
   "cell_type": "code",
   "execution_count": null,
   "metadata": {},
   "outputs": [],
   "source": [
    "### Eval Example:\n",
    "net3 = Marabou.read_nnet(nnet_file_name)\n",
    "\n",
    "net3.setLowerBound(net3.inputVars[0][0], input0)\n",
    "net3.setUpperBound(net3.inputVars[0][0], input0)\n",
    "\n",
    "net3.setLowerBound(net3.inputVars[0][1], input1)\n",
    "net3.setUpperBound(net3.inputVars[0][1], input1)\n",
    "\n",
    "net3.setLowerBound(net3.inputVars[0][2], input2)\n",
    "net3.setUpperBound(net3.inputVars[0][2], input2)\n",
    "\n",
    "net3.setLowerBound(net3.inputVars[0][3], input3)\n",
    "net3.setUpperBound(net3.inputVars[0][3], input3)\n",
    "\n",
    "net3.setLowerBound(net3.inputVars[0][4], input4)\n",
    "net3.setUpperBound(net3.inputVars[0][4], input4)\n",
    "\n",
    "\n",
    "vals3, stats3 = net3.solve()\n",
    "\n"
   ]
  },
  {
   "cell_type": "code",
   "execution_count": null,
   "metadata": {},
   "outputs": [],
   "source": [
    "#for i, var in enumerate(input_variables):\n",
    "#    print(\"input\" + str(i) + \" = {}\".format(vals[var]) )\n",
    "\n",
    "#for i, var in enumerate(output_variables):\n",
    "#    print(\"output\" + str(i) + \" = {}\".format(vals[var]) )\n",
    "\n",
    "print(\"DIFF0 = {}\".format(output0 - vals3[net3.outputVars[0][0]]))\n",
    "print(\"DIFF1 = {}\".format(output1 - vals3[net3.outputVars[0][1]]))\n",
    "print(\"DIFF2 = {}\".format(output2 - vals3[net3.outputVars[0][2]]))\n",
    "print(\"DIFF3 = {}\".format(output3 - vals3[net3.outputVars[0][3]]))\n",
    "print(\"DIFF4 = {}\".format(output4 - vals3[net3.outputVars[0][4]]))\n",
    "\n",
    "error = np.array([ output0 - vals3[net3.outputVars[0][0]],output1 - vals3[net3.outputVars[0][1]], output2 - vals3[net3.outputVars[0][2]], output3 - vals3[net3.outputVars[0][3]], output4 - vals3[net3.outputVars[0][4]],  ])\n",
    "\n",
    "print(\"NORM OF ERROR: {}\".format(np.linalg.norm(error)))"
   ]
  },
  {
   "cell_type": "code",
   "execution_count": null,
   "metadata": {},
   "outputs": [],
   "source": []
  }
 ],
 "metadata": {
  "kernelspec": {
   "display_name": "Python 3",
   "language": "python",
   "name": "python3"
  },
  "language_info": {
   "codemirror_mode": {
    "name": "ipython",
    "version": 3
   },
   "file_extension": ".py",
   "mimetype": "text/x-python",
   "name": "python",
   "nbconvert_exporter": "python",
   "pygments_lexer": "ipython3",
   "version": "3.6.7"
  }
 },
 "nbformat": 4,
 "nbformat_minor": 2
}
